{
  "nbformat": 4,
  "nbformat_minor": 0,
  "metadata": {
    "colab": {
      "provenance": []
    },
    "kernelspec": {
      "name": "python3",
      "display_name": "Python 3"
    },
    "language_info": {
      "name": "python"
    }
  },
  "cells": [
    {
      "cell_type": "code",
      "execution_count": 3,
      "metadata": {
        "id": "Lay_607jgcM-"
      },
      "outputs": [],
      "source": [
        "import os\n",
        "import shutil\n",
        "import random\n",
        "\n",
        "data_folder = '/content/drive/My Drive/APS360_Project/final_dataset'\n",
        "target_folders = ['/content/drive/My Drive/APS360_Project/train_set',\n",
        "                  '/content/drive/My Drive/APS360_Project/val_set',\n",
        "                  '/content/drive/My Drive/APS360_Project/test_set']\n",
        "\n",
        "train_ratio = 0.7\n",
        "val_ratio = 0.15\n",
        "test_ratio = 0.15\n",
        "\n",
        "classes_components = {\n",
        "    'Resistor': 501,\n",
        "    'Capacitor': 503,\n",
        "    'LED': 500,\n",
        "    'Transistor': 526,\n",
        "    'Potentiometer': 500\n",
        "}\n",
        "\n",
        "# Calculate the number of images for each split for each class\n",
        "total_images_per_class = sum(classes_components.values())\n",
        "\n",
        "for class_name, num_images in classes_components.items():\n",
        "    class_folder = os.path.join(data_folder, class_name)\n",
        "    images = os.listdir(class_folder)\n",
        "    random.shuffle(images)\n",
        "\n",
        "    train_count = int(train_ratio * num_images)\n",
        "    val_count = int(val_ratio * num_images)\n",
        "    test_count = num_images - train_count - val_count\n",
        "\n",
        "    for i, target_folder in enumerate(target_folders):\n",
        "        if i == 0:\n",
        "            target_path = os.path.join(target_folder, class_name)\n",
        "            os.makedirs(target_path, exist_ok=True)\n",
        "            selected_images = images[:train_count]\n",
        "        elif i == 1:\n",
        "            target_path = os.path.join(target_folder, class_name)\n",
        "            os.makedirs(target_path, exist_ok=True)\n",
        "            selected_images = images[train_count:train_count + val_count]\n",
        "        else:\n",
        "            target_path = os.path.join(target_folder, class_name)\n",
        "            os.makedirs(target_path, exist_ok=True)\n",
        "            selected_images = images[train_count + val_count:]\n",
        "\n",
        "        for image in selected_images:\n",
        "            src = os.path.join(class_folder, image)\n",
        "            dest = os.path.join(target_path, image)\n",
        "            shutil.copy(src, dest)\n"
      ]
    },
    {
      "cell_type": "code",
      "source": [
        "import os\n",
        "\n",
        "# Define the target folders\n",
        "target_folders = ['/content/drive/My Drive/APS360_Project/train_set',\n",
        "                  '/content/drive/My Drive/APS360_Project/val_set',\n",
        "                  '/content/drive/My Drive/APS360_Project/test_set']\n",
        "\n",
        "# Define the class names\n",
        "class_names = ['Resistor', 'Capacitor', 'LED', 'Transistor', 'Potentiometer']\n",
        "\n",
        "# Create the target directories\n",
        "for folder in target_folders:\n",
        "    os.makedirs(folder, exist_ok=True)  # Create the main directories\n",
        "    for class_name in class_names:\n",
        "        class_folder = os.path.join(folder, class_name)\n",
        "        os.makedirs(class_folder, exist_ok=True)  # Create the subdirectories for each class\n"
      ],
      "metadata": {
        "id": "HC-X-inJmEiv"
      },
      "execution_count": 2,
      "outputs": []
    },
    {
      "cell_type": "code",
      "source": [
        "from google.colab import drive\n",
        "drive.mount('/content/drive')"
      ],
      "metadata": {
        "colab": {
          "base_uri": "https://localhost:8080/"
        },
        "id": "1vt-MMYKgiCy",
        "outputId": "feed7449-ce72-4677-aeba-c1f0ea4be210"
      },
      "execution_count": 1,
      "outputs": [
        {
          "output_type": "stream",
          "name": "stdout",
          "text": [
            "Mounted at /content/drive\n"
          ]
        }
      ]
    }
  ]
}