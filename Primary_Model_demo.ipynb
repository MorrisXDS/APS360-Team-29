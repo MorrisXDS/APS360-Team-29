{
  "cells": [
    {
      "cell_type": "code",
      "execution_count": 20,
      "metadata": {
        "id": "1K3qKmaEURvh"
      },
      "outputs": [],
      "source": [
        "import time\n",
        "import torch\n",
        "import torchvision.models as models\n",
        "import torch.nn as nn\n",
        "import numpy as np\n",
        "import matplotlib.pyplot as plt\n",
        "from google.colab import drive\n",
        "from torch.utils.data import DataLoader\n",
        "from torchvision import datasets, transforms"
      ]
    },
    {
      "cell_type": "code",
      "execution_count": 21,
      "metadata": {
        "colab": {
          "base_uri": "https://localhost:8080/"
        },
        "id": "ksbqb4o2Ud-S",
        "outputId": "12190246-ab27-4f72-b466-86dee67474df"
      },
      "outputs": [
        {
          "output_type": "stream",
          "name": "stdout",
          "text": [
            "Mounted at /content/drive\n"
          ]
        }
      ],
      "source": [
        "drive.mount('/content/drive', force_remount=True)"
      ]
    },
    {
      "cell_type": "code",
      "execution_count": null,
      "metadata": {
        "id": "Xx523clAS-ev"
      },
      "outputs": [],
      "source": [
        "train_folder_path = \"/content/drive/MyDrive/APS360_Project/train_set_final_model\"\n",
        "validation_folder_path = \"/content/drive/MyDrive/APS360_Project/val_set_final_model\"\n",
        "test_folder_path = \"/content/drive/MyDrive/APS360_Project/test_set_final_model\""
      ]
    },
    {
      "cell_type": "code",
      "execution_count": null,
      "metadata": {
        "id": "s8rY3txxU7Mf"
      },
      "outputs": [],
      "source": [
        "# resize to 64 by 64 and convert to tensor\n",
        "transformation = transforms.Compose([\n",
        "            transforms.Resize((128,128)),\n",
        "            transforms.ToTensor(),\n",
        "            transforms.Normalize(mean=[0.485, 0.456, 0.406], std=[0.229, 0.224, 0.225])\n",
        "\n",
        "])"
      ]
    },
    {
      "cell_type": "code",
      "execution_count": null,
      "metadata": {
        "colab": {
          "base_uri": "https://localhost:8080/"
        },
        "id": "4cnpNRtSTpW7",
        "outputId": "f21367cc-face-4c06-b536-17b3be40e357"
      },
      "outputs": [
        {
          "output_type": "execute_result",
          "data": {
            "text/plain": [
              "['Capacitor', 'LED', 'Potentiometer', 'Resistor', 'Transistor']"
            ]
          },
          "metadata": {},
          "execution_count": 6
        }
      ],
      "source": [
        "train_set = datasets.ImageFolder(root=train_folder_path, transform=transformation)\n",
        "val_set = datasets.ImageFolder(root=validation_folder_path, transform=transformation)\n",
        "test_set = datasets.ImageFolder(root=test_folder_path, transform=transformation)\n",
        "classes = train_set.classes\n",
        "classes"
      ]
    },
    {
      "cell_type": "code",
      "execution_count": null,
      "metadata": {
        "id": "xCuQcOr_bFHb"
      },
      "outputs": [],
      "source": [
        "# helper functions\n",
        "def get_model_name(name, batch_size, learning_rate, epoch):\n",
        "    \"\"\" Generate a name for the model consisting of all the hyperparameter values\n",
        "\n",
        "    Args:\n",
        "        config: Configuration object containing the hyperparameters\n",
        "    Returns:\n",
        "        path: A string with the hyperparameter name and value concatenated\n",
        "    \"\"\"\n",
        "    path = \"model_{0}_bs{1}_lr{2}_epoch{3}\".format(name,\n",
        "                                                   batch_size,\n",
        "                                                   learning_rate,\n",
        "                                                   epoch)\n",
        "    return path\n",
        "\n",
        "def get_accuracy(model, train_loader=None, other_loader=None, train=False):\n",
        "    if train:\n",
        "        data = train_loader\n",
        "    else:\n",
        "        data = other_loader\n",
        "\n",
        "    correct = 0\n",
        "    total = 0\n",
        "    for imgs, labels in data:\n",
        "        #############################################\n",
        "        # #To Enable GPU Usage\n",
        "        # if  torch.cuda.is_available():\n",
        "        #   torch.use_cuda\n",
        "        #   imgs = imgs.cuda()\n",
        "        #   labels = labels.cuda()\n",
        "        #############################################\n",
        "\n",
        "        output = model(imgs)\n",
        "\n",
        "        #select index with maximum prediction score\n",
        "        pred = output.max(1, keepdim=True)[1]\n",
        "        correct += pred.eq(labels.view_as(pred)).sum().item()\n",
        "        total += imgs.shape[0]\n",
        "    return correct / total\n"
      ]
    },
    {
      "cell_type": "code",
      "execution_count": null,
      "metadata": {
        "id": "qh0-lPyoS_xj"
      },
      "outputs": [],
      "source": [
        "def get_model(name=str, num_classes=int, dropout_rate=0.2):\n",
        "  model = models.resnet18(weights=models.ResNet18_Weights.IMAGENET1K_V1)\n",
        "  model.name = name\n",
        "  num_classes = len(classes)\n",
        "  model.fc =nn.Sequential(\n",
        "                  nn.Dropout(dropout_rate),\n",
        "                  nn.Linear(model.fc.in_features, num_classes)\n",
        "  )\n",
        "\n",
        "  if torch.cuda.is_available():\n",
        "    device = torch.device(\"cuda\")\n",
        "    print(\"GPU is available\")\n",
        "    print(\"GPU device name:\", torch.cuda.get_device_name(0))\n",
        "  else:\n",
        "    device = torch.device(\"cpu\")\n",
        "    print(\"GPU is not available, using CPU\")\n",
        "\n",
        "  model = model.to(device)\n",
        "  return model"
      ]
    },
    {
      "cell_type": "code",
      "execution_count": null,
      "metadata": {
        "id": "_k9JtiMQReJs"
      },
      "outputs": [],
      "source": [
        "def normalize(value, num_classes=5):\n",
        "  return value/num_classes"
      ]
    },
    {
      "cell_type": "code",
      "execution_count": null,
      "metadata": {
        "id": "pecrZFoLZAMG"
      },
      "outputs": [],
      "source": [
        "def train_net(model, train_set, val_set, test_set, learning_rate=0.005, batch_size=16, num_epochs=15, decay=0.00015):\n",
        "  if torch.cuda.is_available():\n",
        "    print(\"GPU is avaialbe\")\n",
        "    device = torch.device(\"cuda\")\n",
        "  else:\n",
        "    device = torch.device(\"cpu\")\n",
        "  np.random.seed(42)\n",
        "  train_loader = DataLoader(train_set, batch_size=batch_size, shuffle=True)\n",
        "  val_loader = DataLoader(val_set, batch_size=batch_size, shuffle=True)\n",
        "  criterion = nn.CrossEntropyLoss()\n",
        "  optimizer = torch.optim.Adam(model.fc.parameters(), lr=learning_rate, weight_decay=decay)\n",
        "  #learning rate scheduler\n",
        "  learning_rate_scheduler = torch.optim.lr_scheduler.ReduceLROnPlateau(optimizer, patience=2)\n",
        "  # migrate to deivce\n",
        "\n",
        "  train_losses, val_losses, train_acc, val_acc = [], [], [], []\n",
        "  start_time = time.time()\n",
        "\n",
        "  # training\n",
        "  for epoch in range(num_epochs):\n",
        "      model.train()\n",
        "      total_train_loss = 0\n",
        "      number_of_train_samples = 0\n",
        "      for imgs, labels in train_loader:\n",
        "          if torch.cuda.is_available():\n",
        "            imgs = imgs.to(device)\n",
        "            labels = labels.to(device)\n",
        "          out = model(imgs)             # forward pass\n",
        "          loss = criterion(out, labels) # compute the total loss\n",
        "          total_train_loss += normalize(loss.item()) * imgs.size(0)        # sum the losses in a batch\n",
        "          number_of_train_samples += imgs.size(0)               # add one more sample count\n",
        "          loss.backward()                                 # backward pass (compute parameter updates)\n",
        "          optimizer.step()                                # make the updates for each parameter\n",
        "          optimizer.zero_grad()                           # a clean up step for PyTorch\n",
        "\n",
        "      model.eval()\n",
        "      total_val_loss = 0\n",
        "      number_of_val_samples = 0\n",
        "      with torch.no_grad():\n",
        "        for imgs, labels in val_loader:\n",
        "            if torch.cuda.is_available():\n",
        "              imgs = imgs.to(device)\n",
        "              labels = labels.to(device)\n",
        "\n",
        "            out = model(imgs)             # forward pass\n",
        "            loss = criterion(out, labels) # compute the total loss\n",
        "            total_val_loss += normalize(loss.item()) * imgs.size(0)        # sum the losses in a batch\n",
        "            number_of_val_samples += imgs.size(0)               # add more sample count\n",
        "\n",
        "      # compute average loss\n",
        "      average_train_loss = float(total_train_loss)/(number_of_train_samples)\n",
        "      average_val_loss = float(total_val_loss)/(number_of_val_samples)\n",
        "      train_losses.append(average_train_loss)             # compute *average* train loss\n",
        "      val_losses.append(average_val_loss)             # compute *average* val loss\n",
        "      train_acc.append(get_accuracy(model, train_loader=train_loader, train=True)) # compute training accuracy\n",
        "      val_acc.append(get_accuracy(model, other_loader=val_loader, train=False))  # compute validation accuracy\n",
        "      print(f\"Epoch {epoch + 1}: Train acc: {train_acc[-1]} | Validation acc: {val_acc[-1]} | Train loss: {train_losses[-1]} | Validation loss: {val_losses[-1]}\")\n",
        "      learning_rate_scheduler.step(average_val_loss)\n",
        "      if epoch != num_epochs -1:\n",
        "        print(f\"learning rate for Epoch No. {epoch+2} is {optimizer.param_groups[0]['lr']}\" )\n",
        "      # Save the current model (checkpoint) to a file\n",
        "      model_path = get_model_name(model.name, batch_size, learning_rate, epoch+1)\n",
        "      torch.save(model.state_dict(), model_path)\n",
        "\n",
        "  print('Finished Training')\n",
        "  end_time = time.time()\n",
        "  elapsed_time = end_time - start_time\n",
        "  print(\"Total time elapsed: {:.2f} seconds\".format(elapsed_time))\n",
        "\n",
        "  # plotting\n",
        "  plt.title(\"Losses Curve\")\n",
        "  plt.plot(range(1 ,num_epochs+1), train_losses, label=\"Training\")\n",
        "  plt.plot(range(1 ,num_epochs+1), val_losses, label=\"Validation\")\n",
        "  plt.xlabel(\"Epochs\")\n",
        "  plt.ylabel(\"Loss\")\n",
        "  plt.show()\n",
        "\n",
        "  plt.title(\"Accurancy Curve\")\n",
        "  plt.plot(range(1 ,num_epochs+1), train_acc, label=\"Training\")\n",
        "  plt.plot(range(1 ,num_epochs+1), val_acc, label=\"Validation\")\n",
        "  plt.xlabel(\"Epochs\")\n",
        "  plt.ylabel(\"Accuracy\")\n",
        "  plt.legend(loc='best')\n",
        "  plt.show()\n",
        "\n",
        "  print(\"Final Training Accuracy: {}\".format(train_acc[-1]))\n",
        "  print(\"Final Validation Accuracy: {}\".format(val_acc[-1]))\n"
      ]
    },
    {
      "cell_type": "markdown",
      "metadata": {
        "id": "QRUhWihCPGX8"
      },
      "source": [
        "Please Note that the **losses** for both are **normalized** to between **0 and 1**"
      ]
    },
    {
      "cell_type": "code",
      "execution_count": null,
      "metadata": {
        "colab": {
          "background_save": true,
          "base_uri": "https://localhost:8080/"
        },
        "id": "rjVsyBRrfO6N",
        "outputId": "d96dc321-ce44-4826-f13f-d04e910e0ded"
      },
      "outputs": [
        {
          "name": "stdout",
          "output_type": "stream",
          "text": [
            "GPU is not available, using CPU\n"
          ]
        }
      ],
      "source": [
        "model = get_model(\"ResNet\", len(classes))\n",
        "# train with a set of parameters\n",
        "train_net(model, train_set, val_set, test_set, batch_size=128, num_epochs=35)"
      ]
    },
    {
      "cell_type": "code",
      "execution_count": 36,
      "metadata": {
        "colab": {
          "base_uri": "https://localhost:8080/"
        },
        "id": "pkay1wP-UQ_M",
        "outputId": "d6abff74-119c-47d7-bf5d-7c9e1829d3d6"
      },
      "outputs": [
        {
          "output_type": "stream",
          "name": "stdout",
          "text": [
            "GPU is not available, using CPU\n",
            "the test accuracy is 0.8721804511278195\n"
          ]
        }
      ],
      "source": [
        "# get test_loader\n",
        "np.random.seed(42)\n",
        "test_loader = DataLoader(test_set, batch_size=32, shuffle=True)\n",
        "model = get_model(\"ResNet\", len(classes))\n",
        "model_path = get_model_name(\"ResNet\",128, 0.005, 27)\n",
        "state = torch.load(model_path)\n",
        "model.load_state_dict(state)\n",
        "model.eval()\n",
        "accuracy = get_accuracy(model, other_loader=test_loader, train=False)\n",
        "print(f\"the test accuracy is {accuracy}\")"
      ]
    },
    {
      "cell_type": "code",
      "execution_count": null,
      "metadata": {
        "colab": {
          "base_uri": "https://localhost:8080/",
          "height": 598
        },
        "id": "op-87G65HpnI",
        "outputId": "3f76f2f7-b3c9-40d2-bd9f-dd6b2a11e3ae"
      },
      "outputs": [
        {
          "data": {
            "image/png": "[encoded data removed]",
            "text/plain": [
              "<Figure size 1200x700 with 2 Axes>"
            ]
          },
          "metadata": {},
          "output_type": "display_data"
        }
      ],
      "source": [
        "from sklearn.metrics import confusion_matrix\n",
        "import matplotlib.pyplot as plt\n",
        "import pandas as pd\n",
        "import seaborn as sn\n",
        "\n",
        "# on validation set\n",
        "predicts = []\n",
        "truth_labels = []\n",
        "\n",
        "model.eval()\n",
        "val_loader = DataLoader(val_set, batch_size=64, shuffle=False)\n",
        "with torch.no_grad():\n",
        "  for imgs, labels in val_loader:\n",
        "      out = model(imgs)\n",
        "      __, predicted = torch.max(out,1)\n",
        "      predicts.extend(predicted.numpy())\n",
        "      truth_labels.extend(labels.numpy())\n",
        "\n",
        "matrix = confusion_matrix(truth_labels,predicts)\n",
        "\n",
        "# the following code is inspired by CHristian Bernecker for his blog at https://christianbernecker.medium.com/how-to-create-a-confusion-matrix-in-pytorch-38d06a7f04b7\n",
        "df_cm = pd.DataFrame(matrix / np.sum(matrix, axis=1)[:, None], index = [i for i in classes],\n",
        "                     columns = [i for i in classes])\n",
        "plt.figure(figsize = (12,7))\n",
        "sn.heatmap(df_cm, annot=True)\n",
        "plt.savefig('output.png')"
      ]
    },
    {
      "cell_type": "code",
      "execution_count": null,
      "metadata": {
        "colab": {
          "base_uri": "https://localhost:8080/"
        },
        "id": "EG_cGlx5kVqF",
        "outputId": "7805e6bd-ac59-4cab-f735-0bf54bcf6c67"
      },
      "outputs": [
        {
          "name": "stdout",
          "output_type": "stream",
          "text": [
            "Iterator is empty\n",
            "{'predict': 'Capacitor', 'actual': 'LED'}\n",
            "{'predict': 'Transistor', 'actual': 'LED'}\n",
            "{'predict': 'Capacitor', 'actual': 'Potentiometer'}\n",
            "{'predict': 'Transistor', 'actual': 'LED'}\n",
            "{'predict': 'Resistor', 'actual': 'LED'}\n",
            "{'predict': 'Capacitor', 'actual': 'LED'}\n",
            "{'predict': 'Capacitor', 'actual': 'Potentiometer'}\n",
            "{'predict': 'Potentiometer', 'actual': 'LED'}\n",
            "{'predict': 'Capacitor', 'actual': 'Potentiometer'}\n",
            "{'predict': 'Capacitor', 'actual': 'Potentiometer'}\n",
            "{'predict': 'Transistor', 'actual': 'Capacitor'}\n",
            "{'predict': 'Capacitor', 'actual': 'Transistor'}\n",
            "{'predict': 'LED', 'actual': 'Potentiometer'}\n",
            "{'predict': 'Capacitor', 'actual': 'Transistor'}\n",
            "{'predict': 'Potentiometer', 'actual': 'Capacitor'}\n",
            "{'predict': 'Transistor', 'actual': 'Capacitor'}\n",
            "{'predict': 'Transistor', 'actual': 'Capacitor'}\n",
            "{'predict': 'Potentiometer', 'actual': 'Capacitor'}\n",
            "{'predict': 'Resistor', 'actual': 'LED'}\n",
            "{'predict': 'Resistor', 'actual': 'LED'}\n",
            "{'predict': 'Resistor', 'actual': 'Capacitor'}\n",
            "{'predict': 'Capacitor', 'actual': 'Transistor'}\n",
            "{'predict': 'LED', 'actual': 'Transistor'}\n",
            "{'predict': 'Resistor', 'actual': 'LED'}\n",
            "{'predict': 'Resistor', 'actual': 'Capacitor'}\n",
            "{'predict': 'Transistor', 'actual': 'Capacitor'}\n",
            "{'predict': 'Potentiometer', 'actual': 'Capacitor'}\n",
            "{'predict': 'Transistor', 'actual': 'Capacitor'}\n",
            "{'predict': 'Transistor', 'actual': 'Capacitor'}\n",
            "{'predict': 'Potentiometer', 'actual': 'LED'}\n",
            "{'predict': 'Capacitor', 'actual': 'Transistor'}\n",
            "{'predict': 'Resistor', 'actual': 'Capacitor'}\n",
            "{'predict': 'Capacitor', 'actual': 'LED'}\n",
            "{'predict': 'Resistor', 'actual': 'Capacitor'}\n",
            "{'predict': 'Potentiometer', 'actual': 'Capacitor'}\n",
            "{'predict': 'Resistor', 'actual': 'LED'}\n",
            "{'predict': 'Potentiometer', 'actual': 'LED'}\n",
            "{'predict': 'Capacitor', 'actual': 'Transistor'}\n",
            "{'predict': 'Transistor', 'actual': 'LED'}\n",
            "{'predict': 'Potentiometer', 'actual': 'Capacitor'}\n"
          ]
        }
      ],
      "source": [
        "iterator = iter(test_loader)\n",
        "images, labels = next(iterator)\n",
        "\n",
        "pred_label_dict = []\n",
        "\n",
        "while True:\n",
        "  try:\n",
        "      images, labels  = next(iterator)\n",
        "      output = model(images)\n",
        "      pred = output.max(1, keepdim=True)[1].flatten().tolist()\n",
        "      labels = labels.tolist()\n",
        "\n",
        "      # generate a dict for comparison\n",
        "      for index in range(len(labels)):\n",
        "        pred_label_dict.append({\"predict\":classes[pred[index]], \"actual\":classes[labels[index]]})\n",
        "  except StopIteration:\n",
        "      print(\"Iterator is empty\")\n",
        "      break\n",
        "\n",
        "selections = []\n",
        "\n",
        "for index in range(len(pred_label_dict)):\n",
        "  if pred_label_dict[index][\"predict\"] == \"BJT\" or pred_label_dict[index][\"predict\"] == \"LED\" or pred_label_dict[index][\"predict\"] == \"Capacitor\" or pred_label_dict[index][\"actual\"] == \"BJT\" or pred_label_dict[index][\"actual\"] == \"LED\" or pred_label_dict[index][\"actual\"] == \"Capacitor\" :\n",
        "    if pred_label_dict[index][\"predict\"] != pred_label_dict[index][\"actual\"]:\n",
        "      selections.append(pred_label_dict[index])\n",
        "      print(selections[-1])\n",
        "\n",
        "\n"
      ]
    },
    {
      "cell_type": "code",
      "source": [
        "unseen_test_set_path = \"/content/drive/MyDrive/APS360_Project/unseen_test_set\"\n",
        "unseen_test_set = datasets.ImageFolder(root=unseen_test_set_path, transform=transformation)\n",
        "unseen_test_loader = DataLoader(unseen_test_set, batch_size=1, shuffle=True)\n",
        "\n",
        "\n",
        "pred_label_dict = []\n",
        "\n",
        "\n",
        "for image, label in unseen_test_loader:\n",
        "    output = model(image)\n",
        "    pred = output.max(1, keepdim=True)[1].flatten().tolist()\n",
        "    label = label.tolist()\n",
        "    pred_label_dict.append({\"predict\":classes[pred[0]], \"actual\":classes[label[0]]})\n",
        "    print(pred_label_dict[-1])\n",
        "\n",
        "\n",
        "\n",
        "# while True:\n",
        "#   try:\n",
        "\n",
        "\n",
        "\n",
        "  #       pred_label_dict.append({\"predict\":classes[pred[index]], \"actual\":classes[labels[index]]})\n",
        "  #       print(pred_label_dict[-1])\n",
        "  # except StopIteration:\n",
        "  #     print(\"Iterator is empty\")\n",
        "  #     break"
      ],
      "metadata": {
        "colab": {
          "base_uri": "https://localhost:8080/"
        },
        "id": "VBaxsS58a7qw",
        "outputId": "fa84f711-dc31-4b6d-8860-cb50d91ad417"
      },
      "execution_count": 37,
      "outputs": [
        {
          "output_type": "stream",
          "name": "stdout",
          "text": [
            "{'predict': 'Resistor', 'actual': 'Capacitor'}\n",
            "{'predict': 'LED', 'actual': 'LED'}\n",
            "{'predict': 'LED', 'actual': 'LED'}\n",
            "{'predict': 'Resistor', 'actual': 'Resistor'}\n",
            "{'predict': 'Resistor', 'actual': 'LED'}\n",
            "{'predict': 'Resistor', 'actual': 'Potentiometer'}\n",
            "{'predict': 'Resistor', 'actual': 'LED'}\n",
            "{'predict': 'LED', 'actual': 'LED'}\n",
            "{'predict': 'Resistor', 'actual': 'Capacitor'}\n",
            "{'predict': 'Resistor', 'actual': 'LED'}\n",
            "{'predict': 'Resistor', 'actual': 'Capacitor'}\n",
            "{'predict': 'Resistor', 'actual': 'Capacitor'}\n",
            "{'predict': 'Resistor', 'actual': 'Potentiometer'}\n",
            "{'predict': 'Resistor', 'actual': 'Resistor'}\n",
            "{'predict': 'Resistor', 'actual': 'LED'}\n",
            "{'predict': 'Resistor', 'actual': 'Resistor'}\n",
            "{'predict': 'Resistor', 'actual': 'Resistor'}\n",
            "{'predict': 'Resistor', 'actual': 'LED'}\n",
            "{'predict': 'Resistor', 'actual': 'Capacitor'}\n",
            "{'predict': 'Resistor', 'actual': 'Resistor'}\n",
            "{'predict': 'Resistor', 'actual': 'Capacitor'}\n",
            "{'predict': 'Resistor', 'actual': 'Resistor'}\n"
          ]
        }
      ]
    },
    {
      "cell_type": "code",
      "source": [
        "from sklearn.metrics import confusion_matrix\n",
        "import matplotlib.pyplot as plt\n",
        "import pandas as pd\n",
        "import seaborn as sn\n",
        "\n",
        "# on validation set\n",
        "predicts = []\n",
        "truth_labels = []\n",
        "\n",
        "model.eval()\n",
        "with torch.no_grad():\n",
        "  for imgs, labels in unseen_test_loader:\n",
        "      out = model(imgs)\n",
        "      __, predicted = torch.max(out,1)\n",
        "      predicts.extend(predicted.numpy())\n",
        "      truth_labels.extend(labels.numpy())\n",
        "\n",
        "matrix = confusion_matrix(truth_labels,predicts)\n",
        "\n",
        "four_classes = classes[:4]\n",
        "\n",
        "# the following code is inspired by CHristian Bernecker for his blog at https://christianbernecker.medium.com/how-to-create-a-confusion-matrix-in-pytorch-38d06a7f04b7\n",
        "df_cm = pd.DataFrame(matrix / np.sum(matrix, axis=1)[:, None], index = [i for i in four_classes],\n",
        "                     columns = [i for i in four_classes])\n",
        "plt.figure(figsize = (12,7))\n",
        "sn.heatmap(df_cm, annot=True)\n",
        "plt.savefig('output.png')"
      ],
      "metadata": {
        "colab": {
          "base_uri": "https://localhost:8080/",
          "height": 604
        },
        "id": "wH6xR2BbeeOj",
        "outputId": "23215542-1fe4-42b5-a1fc-1ed641f8a13b"
      },
      "execution_count": 49,
      "outputs": [
        {
          "output_type": "display_data",
          "data": {
            "text/plain": [
              "<Figure size 1200x700 with 2 Axes>"
            ],
            "image/png": "[encoded data removed]"
          },
          "metadata": {}
        }
      ]
    }
  ],
  "metadata": {
    "colab": {
      "machine_shape": "hm",
      "provenance": []
    },
    "kernelspec": {
      "display_name": "Python 3",
      "name": "python3"
    },
    "language_info": {
      "name": "python"
    }
  },
  "nbformat": 4,
  "nbformat_minor": 0
}