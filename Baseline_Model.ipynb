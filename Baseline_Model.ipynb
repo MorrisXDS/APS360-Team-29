{
  "nbformat": 4,
  "nbformat_minor": 0,
  "metadata": {
    "colab": {
      "provenance": [],
      "authorship_tag": "ABX9TyOalXmLThCByVFKhj3yQX97",
      "include_colab_link": true
    },
    "kernelspec": {
      "name": "python3",
      "display_name": "Python 3"
    },
    "language_info": {
      "name": "python"
    }
  },
  "cells": [
    {
      "cell_type": "markdown",
      "metadata": {
        "id": "view-in-github",
        "colab_type": "text"
      },
      "source": [
        "<a href=\"https://colab.research.google.com/github/SteakEnthusiast/APS360-Team-29/blob/main/Baseline_Model.ipynb\" target=\"_parent\"><img src=\"https://colab.research.google.com/assets/colab-badge.svg\" alt=\"Open In Colab\"/></a>"
      ]
    },
    {
      "cell_type": "code",
      "execution_count": 42,
      "metadata": {
        "id": "Hr8DBjBYkFRs"
      },
      "outputs": [],
      "source": [
        "import numpy as np\n",
        "from sklearn.neighbors import KNeighborsClassifier\n",
        "from torchvision import datasets, transforms\n",
        "from sklearn.metrics import accuracy_score\n",
        "from torch.utils.data import DataLoader"
      ]
    },
    {
      "cell_type": "code",
      "source": [
        "from google.colab import drive\n",
        "drive.mount('/content/drive')"
      ],
      "metadata": {
        "colab": {
          "base_uri": "https://localhost:8080/"
        },
        "id": "RqRxMYq0ohj0",
        "outputId": "42b2459c-88a7-466f-ce64-a74a57cac89f"
      },
      "execution_count": 2,
      "outputs": [
        {
          "output_type": "stream",
          "name": "stdout",
          "text": [
            "Mounted at /content/drive\n"
          ]
        }
      ]
    },
    {
      "cell_type": "code",
      "source": [
        "train_folder_path = \"/content/drive/MyDrive/APS360_Project/train_set\"\n",
        "validation_folder_path = \"/content/drive/MyDrive/APS360_Project/val_set\"\n",
        "test_folder_path = \"/content/drive/MyDrive/APS360_Project/test_set\""
      ],
      "metadata": {
        "id": "u0AlN15VoxyC"
      },
      "execution_count": 8,
      "outputs": []
    },
    {
      "cell_type": "code",
      "source": [
        "# resize to 32 by 32 and convert to tensor\n",
        "transformation = transforms.Compose([\n",
        "            transforms.Resize((32,32)),\n",
        "            transforms.ToTensor()\n",
        "])"
      ],
      "metadata": {
        "id": "yt356irKpOli"
      },
      "execution_count": 35,
      "outputs": []
    },
    {
      "cell_type": "code",
      "source": [
        "# load datasets and apply transformation\n",
        "train_dataset = datasets.ImageFolder(root=train_folder_path, transform=transformation)\n",
        "validation_dataset = datasets.ImageFolder(root=validation_folder_path, transform=transformation)\n",
        "test_dataset = datasets.ImageFolder(root=test_folder_path, transform=transformation)"
      ],
      "metadata": {
        "id": "V0FvCm1_rVYd"
      },
      "execution_count": 51,
      "outputs": []
    },
    {
      "cell_type": "code",
      "source": [
        "# get features by simply flattening pixel values\n",
        "def extract_features(dataset):\n",
        "  Features = []\n",
        "  Labels = []\n",
        "  for image, label in dataset:\n",
        "    features = np.array(image.flatten())\n",
        "    Features.append(features)\n",
        "    Labels.append(label)\n",
        "  Features = np.array(Features)\n",
        "  Labels = np.array(Labels)\n",
        "  return Features, Labels"
      ],
      "metadata": {
        "id": "39ulCV9tsKB6"
      },
      "execution_count": 52,
      "outputs": []
    },
    {
      "cell_type": "code",
      "source": [
        "train_features, train_labels = extract_features(train_dataset)\n",
        "validation_features, validation_labels = extract_features(validation_dataset)\n",
        "test_features, test_labels = extract_features(test_dataset)"
      ],
      "metadata": {
        "id": "MbUi-XpBwzV3"
      },
      "execution_count": 53,
      "outputs": []
    },
    {
      "cell_type": "code",
      "source": [
        "# define the number of neigbhours\n",
        "k = 2\n",
        "\n",
        "# get the model\n",
        "baseline_model = KNeighborsClassifier(n_neighbors=k)\n",
        "\n",
        "# \"train\" the model (store the trainset in this case)\n",
        "baseline_model.fit(train_features, train_labels)\n",
        "\n",
        "# make predictions\n",
        "validation_predicts = baseline_model.predict(validation_features)\n",
        "test_predicts = baseline_model.predict(test_features)"
      ],
      "metadata": {
        "id": "SA2Bvz0T0aI2"
      },
      "execution_count": 54,
      "outputs": []
    },
    {
      "cell_type": "code",
      "source": [
        "# get accruacy\n",
        "validation_accuracy = accuracy_score(validation_predicts, validation_labels)\n",
        "test_accuracy = accuracy_score(test_predicts, test_labels)\n",
        "print(f\"validation accuracy is {validation_accuracy}\")\n",
        "print(f\"test accuracy is {test_accuracy}\")"
      ],
      "metadata": {
        "colab": {
          "base_uri": "https://localhost:8080/"
        },
        "id": "y-4aTMwQ124h",
        "outputId": "16b9c3cb-3c2e-448f-fe42-c0015373c356"
      },
      "execution_count": 55,
      "outputs": [
        {
          "output_type": "stream",
          "name": "stdout",
          "text": [
            "validation accuracy is 0.6213872832369942\n",
            "test accuracy is 0.6058823529411764\n"
          ]
        }
      ]
    },
    {
      "cell_type": "code",
      "source": [
        "# use more neighbours\n",
        "k = 4\n",
        "\n",
        "# get the model\n",
        "baseline_model = KNeighborsClassifier(n_neighbors=k)\n",
        "\n",
        "# \"train\" the model (store the trainset in this case)\n",
        "baseline_model.fit(train_features, train_labels)\n",
        "\n",
        "# make predictions\n",
        "validation_predicts = baseline_model.predict(validation_features)\n",
        "test_predicts = baseline_model.predict(test_features)"
      ],
      "metadata": {
        "id": "we2Y9zVi2-xT"
      },
      "execution_count": 56,
      "outputs": []
    },
    {
      "cell_type": "code",
      "source": [
        "# get accruacy\n",
        "validation_accuracy = accuracy_score(validation_predicts, validation_labels)\n",
        "test_accuracy = accuracy_score(test_predicts, test_labels)\n",
        "print(f\"validation accuracy is {validation_accuracy}\")\n",
        "print(f\"test accuracy is {test_accuracy}\")"
      ],
      "metadata": {
        "colab": {
          "base_uri": "https://localhost:8080/"
        },
        "id": "xBqPPI722-6C",
        "outputId": "88c6777e-70b1-4113-a7f7-94e5d54c8cbf"
      },
      "execution_count": 57,
      "outputs": [
        {
          "output_type": "stream",
          "name": "stdout",
          "text": [
            "validation accuracy is 0.6213872832369942\n",
            "test accuracy is 0.5705882352941176\n"
          ]
        }
      ]
    }
  ]
}